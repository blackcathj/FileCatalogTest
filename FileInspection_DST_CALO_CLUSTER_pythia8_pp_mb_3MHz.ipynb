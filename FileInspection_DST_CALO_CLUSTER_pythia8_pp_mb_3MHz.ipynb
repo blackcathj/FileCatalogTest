{
 "cells": [
  {
   "cell_type": "code",
   "execution_count": 1,
   "id": "3e3f6b8c-c7e5-40ce-861a-4bf248608062",
   "metadata": {},
   "outputs": [],
   "source": [
    "# imports to write dynamic markdown contents\n",
    "import os\n",
    "from IPython.display import display, Markdown, Latex\n",
    "from IPython.display import HTML"
   ]
  },
  {
   "cell_type": "code",
   "execution_count": 2,
   "id": "de16902a-d6c5-4df9-8af4-0e6cfa388657",
   "metadata": {
    "tags": []
   },
   "outputs": [
    {
     "data": {
      "text/markdown": [
       "*For the result HTML page:* "
      ],
      "text/plain": [
       "<IPython.core.display.Markdown object>"
      ]
     },
     "metadata": {},
     "output_type": "display_data"
    },
    {
     "data": {
      "text/html": [
       "<script>\n",
       "code_show=true; \n",
       "function code_toggle() {\n",
       " if (code_show){\n",
       " $('div.input').hide();\n",
       " } else {\n",
       " $('div.input').show();\n",
       " }\n",
       " code_show = !code_show\n",
       "} \n",
       "$( document ).ready(code_toggle);\n",
       "</script>\n",
       "<form action=\"javascript:code_toggle()\"><input type=\"submit\" value=\"Click here to toggle on/off the raw code.\"></form>"
      ],
      "text/plain": [
       "<IPython.core.display.HTML object>"
      ]
     },
     "execution_count": 2,
     "metadata": {},
     "output_type": "execute_result"
    }
   ],
   "source": [
    "# turn off/on code for the result HTML page\n",
    "\n",
    "display(Markdown('*For the result HTML page:* '))\n",
    "    \n",
    "HTML('''<script>\n",
    "code_show=true; \n",
    "function code_toggle() {\n",
    " if (code_show){\n",
    " $('div.input').hide();\n",
    " } else {\n",
    " $('div.input').show();\n",
    " }\n",
    " code_show = !code_show\n",
    "} \n",
    "$( document ).ready(code_toggle);\n",
    "</script>\n",
    "<form action=\"javascript:code_toggle()\"><input type=\"submit\" value=\"Click here to toggle on/off the raw code.\"></form>''')"
   ]
  },
  {
   "cell_type": "code",
   "execution_count": 3,
   "id": "115936f0-05fe-4141-93cb-d8db467ba441",
   "metadata": {},
   "outputs": [
    {
     "name": "stdout",
     "output_type": "stream",
     "text": [
      "Welcome to JupyROOT 6.24/06\n"
     ]
    }
   ],
   "source": [
    "import ROOT"
   ]
  },
  {
   "cell_type": "code",
   "execution_count": 4,
   "id": "08f470d7-ed1d-4700-ace0-ba90418ade34",
   "metadata": {},
   "outputs": [],
   "source": [
    "import uproot\n",
    "\n",
    "import pandas as pd\n",
    "import os\n",
    "import matplotlib.pyplot as plt\n",
    "import matplotlib as mpl\n",
    "import matplotlib.colors\n",
    "import numpy as np\n",
    "import glob\n",
    "mpl.style.use('seaborn-talk')"
   ]
  },
  {
   "cell_type": "code",
   "execution_count": 5,
   "id": "8d0ecf4e-0f55-4fae-ac80-09c2cd94fa84",
   "metadata": {},
   "outputs": [
    {
     "data": {
      "text/markdown": [
       "via sPHENIX software distribution at `/cvmfs/sphenix.sdcc.bnl.gov/gcc-8.3/release/release_new/new.2`"
      ],
      "text/plain": [
       "<IPython.core.display.Markdown object>"
      ]
     },
     "metadata": {},
     "output_type": "display_data"
    }
   ],
   "source": [
    "OFFLINE_MAIN = os.getenv(\"OFFLINE_MAIN\")\n",
    "if OFFLINE_MAIN is not None:\n",
    "    display(Markdown(f\"via sPHENIX software distribution at `{OFFLINE_MAIN}`\"))"
   ]
  },
  {
   "cell_type": "code",
   "execution_count": 6,
   "id": "cb9de1c9-61d4-4a01-bf8a-f6aa5a889117",
   "metadata": {},
   "outputs": [
    {
     "data": {
      "text/plain": [
       "0"
      ]
     },
     "execution_count": 6,
     "metadata": {},
     "output_type": "execute_result"
    }
   ],
   "source": [
    "\n",
    "ROOT.gSystem.Load(\"libg4dst\")\n",
    "ROOT.gSystem.Load(\"libfun4all\")\n"
   ]
  },
  {
   "cell_type": "code",
   "execution_count": 8,
   "id": "fcf23c2f-254e-42fc-9270-004df078b23b",
   "metadata": {},
   "outputs": [],
   "source": [
    "# DST_TRUTH_pythia8_pp_mb_3MHz = ROOT.TFile.Open(\"/sphenix/sim/sim01/sphnxpro/mdc2/hf_pp200_signal/tracks/charm/DST_TRUTH_pythia8_pp_mb_3MHz-0000000004-00004.root\")"
   ]
  },
  {
   "cell_type": "code",
   "execution_count": 9,
   "id": "403364db-dca2-4cc3-a64b-765370abbf91",
   "metadata": {},
   "outputs": [],
   "source": [
    "%%cpp -d\n",
    "\n",
    "#include <fun4all/Fun4AllDstInputManager.h>\n",
    "#include <fun4all/Fun4AllInputManager.h>\n",
    "#include <fun4all/Fun4AllServer.h>\n",
    "#include <fun4all/SubsysReco.h>\n",
    "\n",
    "#include <TSystem.h>"
   ]
  },
  {
   "cell_type": "code",
   "execution_count": 10,
   "id": "c58c6186-58b4-4ce9-b89d-749fdb07b21c",
   "metadata": {},
   "outputs": [
    {
     "name": "stdout",
     "output_type": "stream",
     "text": [
      "Fun4AllServer::setRun(): could not get timestamp for run  4, using tics(0) timestamp: Wed Dec 31 19:00:00 1969\n",
      "--------------------------------------\n",
      "\n",
      "List of Nodes in Fun4AllServer:\n",
      "Node Tree under TopNode TOP\n",
      "TOP (PHCompositeNode)/\n",
      "   DST (PHCompositeNode)/\n",
      "      Sync (IO,SyncObjectv1)\n",
      "      EventHeader (IO,EventHeaderv1)\n",
      "      HCALIN (PHCompositeNode)/\n",
      "         TOWER_SIM_HCALIN (IO,RawTowerContainer)\n",
      "         TOWER_RAW_HCALIN (IO,RawTowerContainer)\n",
      "         TOWER_CALIB_HCALIN (IO,RawTowerContainer)\n",
      "         CLUSTER_HCALIN (IO,RawClusterContainer)\n",
      "      HCALOUT (PHCompositeNode)/\n",
      "         TOWER_SIM_HCALOUT (IO,RawTowerContainer)\n",
      "         TOWER_RAW_HCALOUT (IO,RawTowerContainer)\n",
      "         TOWER_CALIB_HCALOUT (IO,RawTowerContainer)\n",
      "         CLUSTER_HCALOUT (IO,RawClusterContainer)\n",
      "      GLOBAL (PHCompositeNode)/\n",
      "         GlobalVertexMap (IO,GlobalVertexMapv1)\n",
      "      CEMC (PHCompositeNode)/\n",
      "         TOWER_SIM_CEMC (IO,RawTowerContainer)\n",
      "         TOWER_RAW_CEMC (IO,RawTowerContainer)\n",
      "         TOWER_CALIB_CEMC (IO,RawTowerContainer)\n",
      "         CLUSTER_CEMC (IO,RawClusterContainer)\n",
      "         CLUSTER_POS_COR_CEMC (IO,RawClusterContainer)\n",
      "   RUN (PHCompositeNode)/\n",
      "      PHGenIntegral (IO,PHGenIntegralv1)\n",
      "      RunHeader (IO,RunHeaderv1)\n",
      "      Flags (IO,FlagSavev1)\n",
      "      FIELD_CONFIG (IO,PHFieldConfigv1)\n",
      "      PIPE (PHCompositeNode)/\n",
      "         G4GEOPARAM_PIPE (IO,PdbParameterMapContainer)\n",
      "      MVTX (PHCompositeNode)/\n",
      "         G4GEOPARAM_MVTX (IO,PdbParameterMapContainer)\n",
      "      INTT (PHCompositeNode)/\n",
      "         G4GEOPARAM_INTT (IO,PdbParameterMapContainer)\n",
      "      TPC (PHCompositeNode)/\n",
      "         G4GEOPARAM_TPC (IO,PdbParameterMapContainer)\n",
      "      TPC_ENDCAP (PHCompositeNode)/\n",
      "         G4GEOPARAM_TPC_ENDCAP (IO,PdbParameterMapContainer)\n",
      "      MICROMEGAS (PHCompositeNode)/\n",
      "         G4GEOPARAM_MICROMEGAS (IO,PdbParameterMapContainer)\n",
      "      BBC (PHCompositeNode)/\n",
      "         G4GEOPARAM_BBC (IO,PdbParameterMapContainer)\n",
      "      CEMC_ELECTRONICS (PHCompositeNode)/\n",
      "         G4GEOPARAM_CEMC_ELECTRONICS (IO,PdbParameterMapContainer)\n",
      "      CEMC_SPT (PHCompositeNode)/\n",
      "         G4GEOPARAM_CEMC_SPT (IO,PdbParameterMapContainer)\n",
      "      CEMC (PHCompositeNode)/\n",
      "         G4GEOPARAM_CEMC (IO,PdbParameterMapContainer)\n",
      "         G4CELLPARAM_CEMC (IO,PdbParameterMap)\n",
      "         TOWERGEOM_CEMC (IO,RawTowerGeomContainer_Cylinderv1)\n",
      "      HCALIN (PHCompositeNode)/\n",
      "         G4GEOPARAM_HCALIN (IO,PdbParameterMapContainer)\n",
      "         G4CELLPARAM_HCALIN (IO,PdbParameterMap)\n",
      "         TOWERPARAM_HCALIN (IO,PdbParameterMap)\n",
      "         TOWERGEOM_HCALIN (IO,RawTowerGeomContainer_Cylinderv1)\n",
      "      HCALIN_SPT (PHCompositeNode)/\n",
      "         G4GEOPARAM_HCALIN_SPT (IO,PdbParameterMapContainer)\n",
      "      MAGNET (PHCompositeNode)/\n",
      "         G4GEOPARAM_MAGNET (IO,PdbParameterMapContainer)\n",
      "      HCALOUT (PHCompositeNode)/\n",
      "         G4GEOPARAM_HCALOUT (IO,PdbParameterMapContainer)\n",
      "         G4CELLPARAM_HCALOUT (IO,PdbParameterMap)\n",
      "         TOWERPARAM_HCALOUT (IO,PdbParameterMap)\n",
      "         TOWERGEOM_HCALOUT (IO,RawTowerGeomContainer_Cylinderv1)\n",
      "      EPD (PHCompositeNode)/\n",
      "         G4GEOPARAM_EPD (IO,PdbParameterMapContainer)\n",
      "      G4GEOPARAM_BH_1 (IO,PdbParameterMapContainer)\n",
      "      CYLINDERGEOM_BH_1 (IO,PHG4CylinderGeomContainer)\n",
      "      BH_FORWARD_PLUS (PHCompositeNode)/\n",
      "         G4GEOPARAM_BH_FORWARD_PLUS (IO,PdbParameterMapContainer)\n",
      "      BH_FORWARD_NEG (PHCompositeNode)/\n",
      "         G4GEOPARAM_BH_FORWARD_NEG (IO,PdbParameterMapContainer)\n",
      "      CYLINDERGEOM_MVTX (IO,PHG4CylinderGeomContainer)\n",
      "      CYLINDERGEOM_INTT (IO,PHG4CylinderGeomContainer)\n",
      "      CYLINDERGEOM_MICROMEGAS_FULL (IO,PHG4CylinderGeomContainer)\n",
      "      CYLINDERGEOM_CEMC (IO,PHG4CylinderGeomContainer)\n",
      "      GEOMETRY_IO (IO,PHGeomIOTGeo)\n",
      "      CYLINDERCELLGEOM_CEMC (IO,PHG4CylinderCellGeomContainer)\n",
      "      eclus_Recalibration_CEMC (IO,PdbParameterMap)\n",
      "      ecore_Recalibration_CEMC (IO,PdbParameterMap)\n",
      "   PAR (PHCompositeNode)/\n",
      "\n",
      "\n"
     ]
    },
    {
     "name": "stderr",
     "output_type": "stream",
     "text": [
      "Warning in <TClass::Init>: no dictionary for class pair<int,PHG4CylinderGeom_Spacalv3::geom_tower> is available\n"
     ]
    }
   ],
   "source": [
    "%%cpp\n",
    "\n",
    "{\n",
    "  Fun4AllServer *se = Fun4AllServer::instance();\n",
    "\n",
    "  Fun4AllInputManager *in = new Fun4AllDstInputManager(\"DSTin2\");\n",
    "  in->fileopen(\"DST_CALO_CLUSTER_pythia8_pp_mb_3MHz-0000000004-00004.root\");\n",
    "  se->registerInputManager(in);\n",
    "\n",
    "  se->run(1);\n",
    "  se->End();\n",
    "    \n",
    "}"
   ]
  },
  {
   "cell_type": "code",
   "execution_count": null,
   "id": "5ef7b619-0ea8-4227-af62-4e32a91e92b5",
   "metadata": {},
   "outputs": [],
   "source": [
    "ROOT.gFile.ls()\n",
    "ROOT.gFile.T.Print()"
   ]
  },
  {
   "cell_type": "code",
   "execution_count": null,
   "id": "afe0b5d3-5760-4953-a784-754697cb5cd3",
   "metadata": {},
   "outputs": [],
   "source": []
  }
 ],
 "metadata": {
  "kernelspec": {
   "display_name": "Python (sPHENIX)",
   "language": "python",
   "name": "sphenix-env"
  },
  "language_info": {
   "codemirror_mode": {
    "name": "ipython",
    "version": 3
   },
   "file_extension": ".py",
   "mimetype": "text/x-python",
   "name": "python",
   "nbconvert_exporter": "python",
   "pygments_lexer": "ipython3",
   "version": "3.8.0"
  }
 },
 "nbformat": 4,
 "nbformat_minor": 5
}
