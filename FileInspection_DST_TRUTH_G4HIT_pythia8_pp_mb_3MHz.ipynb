{
 "cells": [
  {
   "cell_type": "code",
   "execution_count": 1,
   "id": "3e3f6b8c-c7e5-40ce-861a-4bf248608062",
   "metadata": {},
   "outputs": [],
   "source": [
    "# imports to write dynamic markdown contents\n",
    "import os\n",
    "from IPython.display import display, Markdown, Latex\n",
    "from IPython.display import HTML"
   ]
  },
  {
   "cell_type": "code",
   "execution_count": 2,
   "id": "de16902a-d6c5-4df9-8af4-0e6cfa388657",
   "metadata": {
    "tags": []
   },
   "outputs": [
    {
     "data": {
      "text/markdown": [
       "*For the result HTML page:* "
      ],
      "text/plain": [
       "<IPython.core.display.Markdown object>"
      ]
     },
     "metadata": {},
     "output_type": "display_data"
    },
    {
     "data": {
      "text/html": [
       "<script>\n",
       "code_show=true; \n",
       "function code_toggle() {\n",
       " if (code_show){\n",
       " $('div.input').hide();\n",
       " } else {\n",
       " $('div.input').show();\n",
       " }\n",
       " code_show = !code_show\n",
       "} \n",
       "$( document ).ready(code_toggle);\n",
       "</script>\n",
       "<form action=\"javascript:code_toggle()\"><input type=\"submit\" value=\"Click here to toggle on/off the raw code.\"></form>"
      ],
      "text/plain": [
       "<IPython.core.display.HTML object>"
      ]
     },
     "execution_count": 2,
     "metadata": {},
     "output_type": "execute_result"
    }
   ],
   "source": [
    "# turn off/on code for the result HTML page\n",
    "\n",
    "display(Markdown('*For the result HTML page:* '))\n",
    "    \n",
    "HTML('''<script>\n",
    "code_show=true; \n",
    "function code_toggle() {\n",
    " if (code_show){\n",
    " $('div.input').hide();\n",
    " } else {\n",
    " $('div.input').show();\n",
    " }\n",
    " code_show = !code_show\n",
    "} \n",
    "$( document ).ready(code_toggle);\n",
    "</script>\n",
    "<form action=\"javascript:code_toggle()\"><input type=\"submit\" value=\"Click here to toggle on/off the raw code.\"></form>''')"
   ]
  },
  {
   "cell_type": "code",
   "execution_count": 3,
   "id": "115936f0-05fe-4141-93cb-d8db467ba441",
   "metadata": {},
   "outputs": [
    {
     "name": "stdout",
     "output_type": "stream",
     "text": [
      "Welcome to JupyROOT 6.24/06\n"
     ]
    }
   ],
   "source": [
    "import ROOT"
   ]
  },
  {
   "cell_type": "code",
   "execution_count": 4,
   "id": "08f470d7-ed1d-4700-ace0-ba90418ade34",
   "metadata": {},
   "outputs": [],
   "source": [
    "import uproot\n",
    "\n",
    "import pandas as pd\n",
    "import os\n",
    "import matplotlib.pyplot as plt\n",
    "import matplotlib as mpl\n",
    "import matplotlib.colors\n",
    "import numpy as np\n",
    "import glob\n",
    "mpl.style.use('seaborn-talk')"
   ]
  },
  {
   "cell_type": "code",
   "execution_count": 5,
   "id": "8d0ecf4e-0f55-4fae-ac80-09c2cd94fa84",
   "metadata": {},
   "outputs": [
    {
     "data": {
      "text/markdown": [
       "via sPHENIX software distribution at `/cvmfs/sphenix.sdcc.bnl.gov/gcc-8.3/release/release_new/new.2`"
      ],
      "text/plain": [
       "<IPython.core.display.Markdown object>"
      ]
     },
     "metadata": {},
     "output_type": "display_data"
    }
   ],
   "source": [
    "OFFLINE_MAIN = os.getenv(\"OFFLINE_MAIN\")\n",
    "if OFFLINE_MAIN is not None:\n",
    "    display(Markdown(f\"via sPHENIX software distribution at `{OFFLINE_MAIN}`\"))"
   ]
  },
  {
   "cell_type": "code",
   "execution_count": 6,
   "id": "cb9de1c9-61d4-4a01-bf8a-f6aa5a889117",
   "metadata": {},
   "outputs": [
    {
     "data": {
      "text/plain": [
       "0"
      ]
     },
     "execution_count": 6,
     "metadata": {},
     "output_type": "execute_result"
    }
   ],
   "source": [
    "\n",
    "ROOT.gSystem.Load(\"libg4dst\")\n",
    "ROOT.gSystem.Load(\"libfun4all\")\n"
   ]
  },
  {
   "cell_type": "code",
   "execution_count": 7,
   "id": "6d3670ed-5fec-4819-b5a5-205f58b358e8",
   "metadata": {},
   "outputs": [],
   "source": [
    "%%cpp\n",
    "\n",
    "//#include <frog/FROG.h>\n",
    "//\n",
    "//{\n",
    "//    FROG *fr = new FROG();\n",
    "//    cout << fr->location(\"DST_CALO_G4HIT_pythia8_pp_mb_3MHz-0000000004-00000.root\") << endl;\n",
    "//\n",
    "//}"
   ]
  },
  {
   "cell_type": "code",
   "execution_count": 8,
   "id": "fcf23c2f-254e-42fc-9270-004df078b23b",
   "metadata": {},
   "outputs": [],
   "source": [
    "# DST_TRUTH_pythia8_pp_mb_3MHz = ROOT.TFile.Open(\"/sphenix/sim/sim01/sphnxpro/mdc2/hf_pp200_signal/tracks/charm/DST_TRUTH_pythia8_pp_mb_3MHz-0000000004-00004.root\")"
   ]
  },
  {
   "cell_type": "code",
   "execution_count": 9,
   "id": "403364db-dca2-4cc3-a64b-765370abbf91",
   "metadata": {},
   "outputs": [],
   "source": [
    "%%cpp -d\n",
    "\n",
    "#include <fun4all/Fun4AllDstInputManager.h>\n",
    "#include <fun4all/Fun4AllInputManager.h>\n",
    "#include <fun4all/Fun4AllServer.h>\n",
    "#include <fun4all/SubsysReco.h>\n",
    "\n",
    "#include <TSystem.h>"
   ]
  },
  {
   "cell_type": "code",
   "execution_count": 10,
   "id": "c58c6186-58b4-4ce9-b89d-749fdb07b21c",
   "metadata": {},
   "outputs": [
    {
     "name": "stdout",
     "output_type": "stream",
     "text": [
      "Fun4AllServer::setRun(): could not get timestamp for run  4, using tics(0) timestamp: Wed Dec 31 19:00:00 1969\n",
      "--------------------------------------\n",
      "\n",
      "List of Nodes in Fun4AllServer:\n",
      "Node Tree under TopNode TOP\n",
      "TOP (PHCompositeNode)/\n",
      "   DST (PHCompositeNode)/\n",
      "      PHHepMCGenEventMap (IO,PHHepMCGenEventMap)\n",
      "      Sync (IO,SyncObjectv1)\n",
      "      EventHeader (IO,EventHeaderv1)\n",
      "      G4HIT_BH_1 (IO,PHG4HitContainer)\n",
      "      G4TruthInfo (IO,PHG4TruthInfoContainer)\n",
      "   RUN (PHCompositeNode)/\n",
      "      PHGenIntegral (IO,PHGenIntegralv1)\n",
      "      RunHeader (IO,RunHeaderv1)\n",
      "      Flags (IO,FlagSavev1)\n",
      "      FIELD_CONFIG (IO,PHFieldConfigv1)\n",
      "      PIPE (PHCompositeNode)/\n",
      "         G4GEOPARAM_PIPE (IO,PdbParameterMapContainer)\n",
      "      MVTX (PHCompositeNode)/\n",
      "         G4GEOPARAM_MVTX (IO,PdbParameterMapContainer)\n",
      "      INTT (PHCompositeNode)/\n",
      "         G4GEOPARAM_INTT (IO,PdbParameterMapContainer)\n",
      "      TPC (PHCompositeNode)/\n",
      "         G4GEOPARAM_TPC (IO,PdbParameterMapContainer)\n",
      "      TPC_ENDCAP (PHCompositeNode)/\n",
      "         G4GEOPARAM_TPC_ENDCAP (IO,PdbParameterMapContainer)\n",
      "      MICROMEGAS (PHCompositeNode)/\n",
      "         G4GEOPARAM_MICROMEGAS (IO,PdbParameterMapContainer)\n",
      "      BBC (PHCompositeNode)/\n",
      "         G4GEOPARAM_BBC (IO,PdbParameterMapContainer)\n",
      "      CEMC_ELECTRONICS (PHCompositeNode)/\n",
      "         G4GEOPARAM_CEMC_ELECTRONICS (IO,PdbParameterMapContainer)\n",
      "      CEMC_SPT (PHCompositeNode)/\n",
      "         G4GEOPARAM_CEMC_SPT (IO,PdbParameterMapContainer)\n",
      "      CEMC (PHCompositeNode)/\n",
      "         G4GEOPARAM_CEMC (IO,PdbParameterMapContainer)\n",
      "      HCALIN (PHCompositeNode)/\n",
      "         G4GEOPARAM_HCALIN (IO,PdbParameterMapContainer)\n",
      "      HCALIN_SPT (PHCompositeNode)/\n",
      "         G4GEOPARAM_HCALIN_SPT (IO,PdbParameterMapContainer)\n",
      "      MAGNET (PHCompositeNode)/\n",
      "         G4GEOPARAM_MAGNET (IO,PdbParameterMapContainer)\n",
      "      HCALOUT (PHCompositeNode)/\n",
      "         G4GEOPARAM_HCALOUT (IO,PdbParameterMapContainer)\n",
      "      EPD (PHCompositeNode)/\n",
      "         G4GEOPARAM_EPD (IO,PdbParameterMapContainer)\n",
      "      G4GEOPARAM_BH_1 (IO,PdbParameterMapContainer)\n",
      "      CYLINDERGEOM_BH_1 (IO,PHG4CylinderGeomContainer)\n",
      "      BH_FORWARD_PLUS (PHCompositeNode)/\n",
      "         G4GEOPARAM_BH_FORWARD_PLUS (IO,PdbParameterMapContainer)\n",
      "      BH_FORWARD_NEG (PHCompositeNode)/\n",
      "         G4GEOPARAM_BH_FORWARD_NEG (IO,PdbParameterMapContainer)\n",
      "      CYLINDERGEOM_MVTX (IO,PHG4CylinderGeomContainer)\n",
      "      CYLINDERGEOM_INTT (IO,PHG4CylinderGeomContainer)\n",
      "      CYLINDERGEOM_MICROMEGAS_FULL (IO,PHG4CylinderGeomContainer)\n",
      "      CYLINDERGEOM_CEMC (IO,PHG4CylinderGeomContainer)\n",
      "      GEOMETRY_IO (IO,PHGeomIOTGeo)\n",
      "   PAR (PHCompositeNode)/\n",
      "\n",
      "\n"
     ]
    },
    {
     "name": "stderr",
     "output_type": "stream",
     "text": [
      "Warning in <TClass::Init>: no dictionary for class pair<int,PHG4CylinderGeom_Spacalv3::geom_tower> is available\n"
     ]
    }
   ],
   "source": [
    "%%cpp\n",
    "\n",
    "{\n",
    "  Fun4AllServer *se = Fun4AllServer::instance();\n",
    "\n",
    "  Fun4AllInputManager *in = new Fun4AllDstInputManager(\"DSTin2\");\n",
    "  in->fileopen(\"DST_TRUTH_G4HIT_pythia8_pp_mb_3MHz-0000000004-00004.root\");\n",
    "  se->registerInputManager(in);\n",
    "\n",
    "  se->run(1);\n",
    "  se->End();\n",
    "    \n",
    "}"
   ]
  },
  {
   "cell_type": "code",
   "execution_count": 11,
   "id": "5ef7b619-0ea8-4227-af62-4e32a91e92b5",
   "metadata": {},
   "outputs": [
    {
     "name": "stdout",
     "output_type": "stream",
     "text": [
      "TFile**\t\t/sphenix/sim/sim01/sphnxpro/mdc2/pythia8_pp_mb/pileup/DST_TRUTH_G4HIT_pythia8_pp_mb_3MHz-0000000004-00004.root\ttitled by PHOOL\n",
      " TFile*\t\t/sphenix/sim/sim01/sphnxpro/mdc2/pythia8_pp_mb/pileup/DST_TRUTH_G4HIT_pythia8_pp_mb_3MHz-0000000004-00004.root\ttitled by PHOOL\n",
      "  OBJ: TTree\tT0x70e9570\ttitled by PHOOL : 0 at: 0x80f5b00\n",
      "  KEY: TTree\tT;95\ttitled by PHOOL [current cycle]\n",
      "  KEY: TTree\tT;94\ttitled by PHOOL [backup cycle]\n",
      "  KEY: TTree\tT1;1\ttitled by PHOOL\n",
      "******************************************************************************\n",
      "*Tree    :T         : titled by PHOOL                                        *\n",
      "*Entries :      848 : Total =     24579040132 bytes  File  Size = 9263032674 *\n",
      "*        :          : Tree compression factor =   2.65                       *\n",
      "******************************************************************************\n",
      "*Branch  :DST#PHHepMCGenEventMap                                             *\n",
      "*Entries :      848 : BranchElement (see below)                              *\n",
      "*............................................................................*\n",
      "*Br    0 :fUniqueID : UInt_t                                                 *\n",
      "*Entries :      848 : Total  Size=      30036 bytes  File Size  =      24051 *\n",
      "*Baskets :      283 : Basket Size=       4029 bytes  Compression=   1.00     *\n",
      "*............................................................................*\n",
      "*Br    1 :fBits     : UInt_t                                                 *\n",
      "*Entries :      848 : Total  Size=      34544 bytes  File Size  =      28575 *\n",
      "*Baskets :      283 : Basket Size=       4029 bytes  Compression=   1.00     *\n",
      "*............................................................................*\n",
      "*Br    2 :_map      : Int_t _map_                                            *\n",
      "*Entries :      848 : Total  Size=      63735 bytes  File Size  =      28292 *\n",
      "*Baskets :      283 : Basket Size=      32000 bytes  Compression=   1.00     *\n",
      "*............................................................................*\n",
      "*Br    3 :_map.first : Int_t first[_map_]                                    *\n",
      "*Entries :      848 : Total  Size=     311013 bytes  File Size  =      75731 *\n",
      "*Baskets :      283 : Basket Size=       4029 bytes  Compression=   4.03     *\n",
      "*............................................................................*\n",
      "*Br    4 :_map.second : PHHepMCGenEvent* second[_map_]                       *\n",
      "*Entries :      848 : Total  Size= 1229119493 bytes  File Size  =  366592312 *\n",
      "*Baskets :      848 : Basket Size=    1411176 bytes  Compression=   3.35     *\n",
      "*............................................................................*\n",
      "*Branch  :DST#Sync                                                           *\n",
      "*Entries :      848 : BranchElement (see below)                              *\n",
      "*............................................................................*\n",
      "*Br    5 :fUniqueID : UInt_t                                                 *\n",
      "*Entries :      848 : Total  Size=      30036 bytes  File Size  =      24051 *\n",
      "*Baskets :      283 : Basket Size=       4029 bytes  Compression=   1.00     *\n",
      "*............................................................................*\n",
      "*Br    6 :fBits     : UInt_t                                                 *\n",
      "*Entries :      848 : Total  Size=      34544 bytes  File Size  =      28575 *\n",
      "*Baskets :      283 : Basket Size=       4029 bytes  Compression=   1.00     *\n",
      "*............................................................................*\n",
      "*Br    7 :eventcounter : Int_t                                               *\n",
      "*Entries :      848 : Total  Size=      30897 bytes  File Size  =      24900 *\n",
      "*Baskets :      283 : Basket Size=       4029 bytes  Compression=   1.00     *\n",
      "*............................................................................*\n",
      "*Br    8 :eventnumber : Int_t                                                *\n",
      "*Entries :      848 : Total  Size=      30610 bytes  File Size  =      24617 *\n",
      "*Baskets :      283 : Basket Size=       4029 bytes  Compression=   1.00     *\n",
      "*............................................................................*\n",
      "*Br    9 :runnumber : Int_t                                                  *\n",
      "*Entries :      848 : Total  Size=      30036 bytes  File Size  =      24051 *\n",
      "*Baskets :      283 : Basket Size=       4029 bytes  Compression=   1.00     *\n",
      "*............................................................................*\n",
      "*Br   10 :segmentnumber : Int_t                                              *\n",
      "*Entries :      848 : Total  Size=      31184 bytes  File Size  =      25183 *\n",
      "*Baskets :      283 : Basket Size=       4029 bytes  Compression=   1.00     *\n",
      "*............................................................................*\n",
      "*Branch  :DST#EventHeader                                                    *\n",
      "*Entries :      848 : BranchElement (see below)                              *\n",
      "*............................................................................*\n",
      "*Br   11 :fUniqueID : UInt_t                                                 *\n",
      "*Entries :      848 : Total  Size=      30036 bytes  File Size  =      24051 *\n",
      "*Baskets :      283 : Basket Size=       4029 bytes  Compression=   1.00     *\n",
      "*............................................................................*\n",
      "*Br   12 :fBits     : UInt_t                                                 *\n",
      "*Entries :      848 : Total  Size=      34544 bytes  File Size  =      28575 *\n",
      "*Baskets :      283 : Basket Size=       4029 bytes  Compression=   1.00     *\n",
      "*............................................................................*\n",
      "*Br   13 :RunNumber : Int_t                                                  *\n",
      "*Entries :      848 : Total  Size=      30036 bytes  File Size  =      24051 *\n",
      "*Baskets :      283 : Basket Size=       4029 bytes  Compression=   1.00     *\n",
      "*............................................................................*\n",
      "*Br   14 :EvtSequence : Int_t                                                *\n",
      "*Entries :      848 : Total  Size=      30610 bytes  File Size  =      24617 *\n",
      "*Baskets :      283 : Basket Size=       4029 bytes  Compression=   1.00     *\n",
      "*............................................................................*\n",
      "*Br   15 :m_IntEventProperties : Int_t m_IntEventProperties_                 *\n",
      "*Entries :      848 : Total  Size=      57132 bytes  File Size  =      32538 *\n",
      "*Baskets :      283 : Basket Size=      32000 bytes  Compression=   1.01     *\n",
      "*............................................................................*\n",
      "*Br   16 :m_IntEventProperties.first : string first[m_IntEventProperties_]   *\n",
      "*Entries :      848 : Total  Size=      42373 bytes  File Size  =      36214 *\n",
      "*Baskets :      283 : Basket Size=       4029 bytes  Compression=   1.00     *\n",
      "*............................................................................*\n",
      "*Br   17 :m_IntEventProperties.second : Long_t second[m_IntEventProperties_] *\n",
      "*Entries :      848 : Total  Size=      37572 bytes  File Size  =      31409 *\n",
      "*Baskets :      283 : Basket Size=       4029 bytes  Compression=   1.00     *\n",
      "*............................................................................*\n",
      "*Br   18 :m_FloatEventProperties : Int_t m_FloatEventProperties_             *\n",
      "*Entries :      848 : Total  Size=      57731 bytes  File Size  =      33104 *\n",
      "*Baskets :      283 : Basket Size=      32000 bytes  Compression=   1.01     *\n",
      "*............................................................................*\n",
      "*Br   19 :m_FloatEventProperties.first :                                     *\n",
      "*         | string first[m_FloatEventProperties_]                            *\n",
      "*Entries :      848 : Total  Size=      42951 bytes  File Size  =      36780 *\n",
      "*Baskets :      283 : Basket Size=       4029 bytes  Compression=   1.00     *\n",
      "*............................................................................*\n",
      "*Br   20 :m_FloatEventProperties.second :                                    *\n",
      "*         | Float_t second[m_FloatEventProperties_]                          *\n",
      "*Entries :      848 : Total  Size=      38150 bytes  File Size  =      31975 *\n",
      "*Baskets :      283 : Basket Size=       4029 bytes  Compression=   1.00     *\n",
      "*............................................................................*\n",
      "*Branch  :DST#G4HIT_BH_1                                                     *\n",
      "*Entries :      848 : BranchElement (see below)                              *\n",
      "*............................................................................*\n",
      "*Br   21 :fUniqueID : UInt_t                                                 *\n",
      "*Entries :      848 : Total  Size=      30036 bytes  File Size  =      24051 *\n",
      "*Baskets :      283 : Basket Size=       4029 bytes  Compression=   1.00     *\n",
      "*............................................................................*\n",
      "*Br   22 :fBits     : UInt_t                                                 *\n",
      "*Entries :      848 : Total  Size=      34544 bytes  File Size  =      28575 *\n",
      "*Baskets :      283 : Basket Size=       4029 bytes  Compression=   1.00     *\n",
      "*............................................................................*\n",
      "*Br   23 :id        : Int_t                                                  *\n",
      "*Entries :      848 : Total  Size=      28027 bytes  File Size  =      22070 *\n",
      "*Baskets :      283 : Basket Size=       4029 bytes  Compression=   1.00     *\n",
      "*............................................................................*\n",
      "*Br   24 :hitmap    : Int_t hitmap_                                          *\n",
      "*Entries :      848 : Total  Size=      75575 bytes  File Size  =      28858 *\n",
      "*Baskets :      283 : Basket Size=      32000 bytes  Compression=   1.00     *\n",
      "*............................................................................*\n",
      "*Br   25 :hitmap.first : ULong64_t first[hitmap_]                            *\n",
      "*Entries :      848 : Total  Size=    3429263 bytes  File Size  =     858819 *\n",
      "*Baskets :      846 : Basket Size=       4029 bytes  Compression=   3.97     *\n",
      "*............................................................................*\n",
      "*Br   26 :hitmap.second : PHG4Hit* second[hitmap_]                           *\n",
      "*Entries :      848 : Total  Size=   56421171 bytes  File Size  =   21458315 *\n",
      "*Baskets :      848 : Basket Size=      64675 bytes  Compression=   2.63     *\n",
      "*............................................................................*\n",
      "*Br   27 :layers    : set<unsigned int>                                      *\n",
      "*Entries :      848 : Total  Size=      43311 bytes  File Size  =      32259 *\n",
      "*Baskets :      283 : Basket Size=       4029 bytes  Compression=   1.16     *\n",
      "*............................................................................*\n",
      "*Branch  :DST#G4TruthInfo                                                    *\n",
      "*Entries :      848 : BranchElement (see below)                              *\n",
      "*............................................................................*\n",
      "*Br   28 :fUniqueID : UInt_t                                                 *\n",
      "*Entries :      848 : Total  Size=      30036 bytes  File Size  =      24051 *\n",
      "*Baskets :      283 : Basket Size=       4029 bytes  Compression=   1.00     *\n",
      "*............................................................................*\n",
      "*Br   29 :fBits     : UInt_t                                                 *\n",
      "*Entries :      848 : Total  Size=      34544 bytes  File Size  =      28575 *\n",
      "*Baskets :      283 : Basket Size=       4029 bytes  Compression=   1.00     *\n",
      "*............................................................................*\n",
      "*Br   30 :particlemap : Int_t particlemap_                                   *\n",
      "*Entries :      848 : Total  Size=      77107 bytes  File Size  =      30273 *\n",
      "*Baskets :      283 : Basket Size=      32000 bytes  Compression=   1.00     *\n",
      "*............................................................................*\n",
      "*Br   31 :particlemap.first : Int_t first[particlemap_]                      *\n",
      "*Entries :      848 : Total  Size=  448481165 bytes  File Size  =  225935423 *\n",
      "*Baskets :      848 : Basket Size=     519274 bytes  Compression=   1.98     *\n",
      "*............................................................................*\n",
      "*Br   32 :particlemap.second : PHG4Particle* second[particlemap_]            *\n",
      "*Entries :848 : Total  Size=15462673575 bytes  File Size  = 5051710373 *\n",
      "*Baskets :      848 : Basket Size=    2014674 bytes  Compression=   3.06     *\n",
      "*............................................................................*\n",
      "*Br   33 :vtxmap    : Int_t vtxmap_                                          *\n",
      "*Entries :      848 : Total  Size=      75622 bytes  File Size  =      28858 *\n",
      "*Baskets :      283 : Basket Size=      32000 bytes  Compression=   1.00     *\n",
      "*............................................................................*\n",
      "*Br   34 :vtxmap.first : Int_t first[vtxmap_]                                *\n",
      "*Entries :      848 : Total  Size=  383866855 bytes  File Size  =  193346247 *\n",
      "*Baskets :      848 : Basket Size=     446830 bytes  Compression=   1.99     *\n",
      "*............................................................................*\n",
      "*Br   35 :vtxmap.second : PHG4VtxPoint* second[vtxmap_]                      *\n",
      "*Entries :848 : Total  Size= 6908052979 bytes  File Size  = 3364906735 *\n",
      "*Baskets :      848 : Basket Size=    8041449 bytes  Compression=   2.05     *\n",
      "*............................................................................*\n",
      "*Br   36 :showermap : Int_t showermap_                                       *\n",
      "*Entries :      848 : Total  Size=      61923 bytes  File Size  =      29707 *\n",
      "*Baskets :      283 : Basket Size=      32000 bytes  Compression=   1.00     *\n",
      "*............................................................................*\n",
      "*Br   37 :showermap.first : Int_t first[showermap_]                          *\n",
      "*Entries :      848 : Total  Size=     124478 bytes  File Size  =      57874 *\n",
      "*Baskets :      283 : Basket Size=       4029 bytes  Compression=   2.05     *\n",
      "*............................................................................*\n",
      "*Br   38 :showermap.second : PHG4Shower* second[showermap_]                  *\n",
      "*Entries :      848 : Total  Size=   68146670 bytes  File Size  =   32636633 *\n",
      "*Baskets :      684 : Basket Size=      85782 bytes  Compression=   2.09     *\n",
      "*............................................................................*\n",
      "*Br   39 :particle_embed_flags : Int_t particle_embed_flags_                 *\n",
      "*Entries :      848 : Total  Size=      79650 bytes  File Size  =      32820 *\n",
      "*Baskets :      283 : Basket Size=      32000 bytes  Compression=   1.00     *\n",
      "*............................................................................*\n",
      "*Br   40 :particle_embed_flags.first : Int_t first[particle_embed_flags_]    *\n",
      "*Entries :      848 : Total  Size=    8350735 bytes  File Size  =    3873423 *\n",
      "*Baskets :      846 : Basket Size=       9368 bytes  Compression=   2.15     *\n",
      "*............................................................................*\n",
      "*Br   41 :particle_embed_flags.second : Int_t second[particle_embed_flags_]  *\n",
      "*Entries :      848 : Total  Size=    8351585 bytes  File Size  =     391647 *\n",
      "*Baskets :      846 : Basket Size=       9368 bytes  Compression=  21.28     *\n",
      "*............................................................................*\n",
      "*Br   42 :vertex_embed_flags : Int_t vertex_embed_flags_                     *\n",
      "*Entries :      848 : Total  Size=      56536 bytes  File Size  =      32254 *\n",
      "*Baskets :      283 : Basket Size=      32000 bytes  Compression=   1.00     *\n",
      "*............................................................................*\n",
      "*Br   43 :vertex_embed_flags.first : Int_t first[vertex_embed_flags_]        *\n",
      "*Entries :      848 : Total  Size=     315059 bytes  File Size  =      78697 *\n",
      "*Baskets :      283 : Basket Size=       4029 bytes  Compression=   3.93     *\n",
      "*............................................................................*\n",
      "*Br   44 :vertex_embed_flags.second : Int_t second[vertex_embed_flags_]      *\n",
      "*Entries :      848 : Total  Size=     315346 bytes  File Size  =      79810 *\n",
      "*Baskets :      283 : Basket Size=       4029 bytes  Compression=   3.87     *\n",
      "*............................................................................*\n"
     ]
    }
   ],
   "source": [
    "ROOT.gFile.ls()\n",
    "ROOT.gFile.T.Print()"
   ]
  },
  {
   "cell_type": "code",
   "execution_count": null,
   "id": "afe0b5d3-5760-4953-a784-754697cb5cd3",
   "metadata": {},
   "outputs": [],
   "source": []
  }
 ],
 "metadata": {
  "kernelspec": {
   "display_name": "Python (sPHENIX)",
   "language": "python",
   "name": "sphenix-env"
  },
  "language_info": {
   "codemirror_mode": {
    "name": "ipython",
    "version": 3
   },
   "file_extension": ".py",
   "mimetype": "text/x-python",
   "name": "python",
   "nbconvert_exporter": "python",
   "pygments_lexer": "ipython3",
   "version": "3.8.0"
  }
 },
 "nbformat": 4,
 "nbformat_minor": 5
}
